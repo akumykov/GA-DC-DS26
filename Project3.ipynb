{
  "nbformat": 4,
  "nbformat_minor": 0,
  "metadata": {
    "colab": {
      "name": "Project3.ipynb",
      "version": "0.3.2",
      "provenance": [],
      "collapsed_sections": [
        "B6r9Va15KqcZ",
        "rmu63c7aJ0N9",
        "I9awBjd6J8-Q",
        "byZwEVemKNnl",
        "2W0BJseF-M75",
        "PX377bnDCzWE",
        "93tS98dUDD7a",
        "ExVKcWAa-YGd",
        "1esyMnPI-87H",
        "Fd2CpK0cAGN0",
        "FHWqw_9IAp-T",
        "3Kzx1LT8FM9Y",
        "vsa5kdfYGnXl",
        "Hv5QNhGrJf2v",
        "48vSbfTEZr5s",
        "S0KfIRuKI9hT",
        "htyWsiSnK1Ke",
        "8HXWiHjWLhw0",
        "IBowMNUAWh67",
        "_whr7gVwXWLy",
        "705gpEunbyZe",
        "IztjCkSXb_Xq",
        "_nqEPSfrcRgV",
        "vKQI1OBVfxmO",
        "0Fv6NaWJn4fA",
        "MSgvMQ8ooAYo",
        "0wVp6Q6koSZo",
        "ghpejWIeo5Im",
        "W3Q6cdLCpKc1",
        "ygCxLcZmqUhJ",
        "6Gut-YsEtCnd",
        "sPLGSy5X5Cti",
        "bZ-quIeBHUw5",
        "5KrcuTs7H3mW",
        "tYXXnrkVT_2X",
        "YRP3yAegUI0j",
        "HHeSX3ZMULaH",
        "y_oKRfcYazsW",
        "lCRnzgqHbYEj",
        "0s--7s5D8e0h"
      ],
      "toc_visible": true
    },
    "kernelspec": {
      "name": "python3",
      "display_name": "Python 3"
    }
  },
  "cells": [
    {
      "cell_type": "markdown",
      "metadata": {
        "id": "view-in-github",
        "colab_type": "text"
      },
      "source": [
        "[View in Colaboratory](https://colab.research.google.com/github/anlime/GA-DC-DS26/blob/master/Project3.ipynb)"
      ]
    },
    {
      "metadata": {
        "id": "B6r9Va15KqcZ",
        "colab_type": "text"
      },
      "cell_type": "markdown",
      "source": [
        "## 0. Initial Setup"
      ]
    },
    {
      "metadata": {
        "id": "rmu63c7aJ0N9",
        "colab_type": "text"
      },
      "cell_type": "markdown",
      "source": [
        "### Import libraries"
      ]
    },
    {
      "metadata": {
        "id": "uoDxJGWmJ2s1",
        "colab_type": "code",
        "colab": {}
      },
      "cell_type": "code",
      "source": [
        "import matplotlib.pyplot as plt\n",
        "\n",
        "% matplotlib inline\n",
        "\n",
        "import pandas as pd\n",
        "import numpy as np\n",
        "import seaborn as sns\n",
        "import matplotlib.pyplot as plt\n",
        "from sklearn.datasets import load_boston\n",
        "from sklearn.linear_model import LinearRegression\n",
        "from sklearn import model_selection\n",
        "from sklearn.model_selection import train_test_split\n",
        "from sklearn.neighbors import KNeighborsClassifier\n",
        "from sklearn import metrics"
      ],
      "execution_count": 0,
      "outputs": []
    },
    {
      "metadata": {
        "id": "I9awBjd6J8-Q",
        "colab_type": "text"
      },
      "cell_type": "markdown",
      "source": [
        "### Load data"
      ]
    },
    {
      "metadata": {
        "id": "IeLEzHvBKW7t",
        "colab_type": "code",
        "colab": {}
      },
      "cell_type": "code",
      "source": [
        "boston = load_boston()\n",
        "\n",
        "X = pd.DataFrame(boston.data,\n",
        "                 columns=boston.feature_names)\n",
        "y = pd.DataFrame(boston.target,\n",
        "                 columns=['MEDV'])\n",
        "boston_data = pd.DataFrame(boston.data,\n",
        "                 columns=boston.feature_names)\n",
        "boston_data['MEDV'] = y['MEDV']"
      ],
      "execution_count": 0,
      "outputs": []
    },
    {
      "metadata": {
        "id": "byZwEVemKNnl",
        "colab_type": "text"
      },
      "cell_type": "markdown",
      "source": [
        "### Data dictionary"
      ]
    },
    {
      "metadata": {
        "id": "soCxmtgW9Lcu",
        "colab_type": "code",
        "colab": {
          "base_uri": "https://localhost:8080/",
          "height": 996
        },
        "outputId": "05f2489c-cd9b-47a8-d023-696acf38ebdd"
      },
      "cell_type": "code",
      "source": [
        "print(boston['DESCR'])"
      ],
      "execution_count": 49,
      "outputs": [
        {
          "output_type": "stream",
          "text": [
            "Boston House Prices dataset\n",
            "===========================\n",
            "\n",
            "Notes\n",
            "------\n",
            "Data Set Characteristics:  \n",
            "\n",
            "    :Number of Instances: 506 \n",
            "\n",
            "    :Number of Attributes: 13 numeric/categorical predictive\n",
            "    \n",
            "    :Median Value (attribute 14) is usually the target\n",
            "\n",
            "    :Attribute Information (in order):\n",
            "        - CRIM     per capita crime rate by town\n",
            "        - ZN       proportion of residential land zoned for lots over 25,000 sq.ft.\n",
            "        - INDUS    proportion of non-retail business acres per town\n",
            "        - CHAS     Charles River dummy variable (= 1 if tract bounds river; 0 otherwise)\n",
            "        - NOX      nitric oxides concentration (parts per 10 million)\n",
            "        - RM       average number of rooms per dwelling\n",
            "        - AGE      proportion of owner-occupied units built prior to 1940\n",
            "        - DIS      weighted distances to five Boston employment centres\n",
            "        - RAD      index of accessibility to radial highways\n",
            "        - TAX      full-value property-tax rate per $10,000\n",
            "        - PTRATIO  pupil-teacher ratio by town\n",
            "        - B        1000(Bk - 0.63)^2 where Bk is the proportion of blacks by town\n",
            "        - LSTAT    % lower status of the population\n",
            "        - MEDV     Median value of owner-occupied homes in $1000's\n",
            "\n",
            "    :Missing Attribute Values: None\n",
            "\n",
            "    :Creator: Harrison, D. and Rubinfeld, D.L.\n",
            "\n",
            "This is a copy of UCI ML housing dataset.\n",
            "http://archive.ics.uci.edu/ml/datasets/Housing\n",
            "\n",
            "\n",
            "This dataset was taken from the StatLib library which is maintained at Carnegie Mellon University.\n",
            "\n",
            "The Boston house-price data of Harrison, D. and Rubinfeld, D.L. 'Hedonic\n",
            "prices and the demand for clean air', J. Environ. Economics & Management,\n",
            "vol.5, 81-102, 1978.   Used in Belsley, Kuh & Welsch, 'Regression diagnostics\n",
            "...', Wiley, 1980.   N.B. Various transformations are used in the table on\n",
            "pages 244-261 of the latter.\n",
            "\n",
            "The Boston house-price data has been used in many machine learning papers that address regression\n",
            "problems.   \n",
            "     \n",
            "**References**\n",
            "\n",
            "   - Belsley, Kuh & Welsch, 'Regression diagnostics: Identifying Influential Data and Sources of Collinearity', Wiley, 1980. 244-261.\n",
            "   - Quinlan,R. (1993). Combining Instance-Based and Model-Based Learning. In Proceedings on the Tenth International Conference of Machine Learning, 236-243, University of Massachusetts, Amherst. Morgan Kaufmann.\n",
            "   - many more! (see http://archive.ics.uci.edu/ml/datasets/Housing)\n",
            "\n"
          ],
          "name": "stdout"
        }
      ]
    },
    {
      "metadata": {
        "id": "2W0BJseF-M75",
        "colab_type": "text"
      },
      "cell_type": "markdown",
      "source": [
        "## 1. Clean up Data and Perform Exploratory Data Analysis"
      ]
    },
    {
      "metadata": {
        "id": "RlwM53DQ-oFV",
        "colab_type": "text"
      },
      "cell_type": "markdown",
      "source": [
        "*Include: total nulls, index, data types, shape, summary statistics, and the number of unique values for each column*"
      ]
    },
    {
      "metadata": {
        "id": "PX377bnDCzWE",
        "colab_type": "text"
      },
      "cell_type": "markdown",
      "source": [
        "### 1.1 Total nulls"
      ]
    },
    {
      "metadata": {
        "id": "irjVPUa8C2Nw",
        "colab_type": "code",
        "colab": {
          "base_uri": "https://localhost:8080/",
          "height": 303
        },
        "outputId": "69c156e5-4597-4677-88a6-3f20af0fdb5f"
      },
      "cell_type": "code",
      "source": [
        "boston_data.isnull().sum()"
      ],
      "execution_count": 50,
      "outputs": [
        {
          "output_type": "execute_result",
          "data": {
            "text/plain": [
              "CRIM       0\n",
              "ZN         0\n",
              "INDUS      0\n",
              "CHAS       0\n",
              "NOX        0\n",
              "RM         0\n",
              "AGE        0\n",
              "DIS        0\n",
              "RAD        0\n",
              "TAX        0\n",
              "PTRATIO    0\n",
              "B          0\n",
              "LSTAT      0\n",
              "MEDV       0\n",
              "dtype: int64"
            ]
          },
          "metadata": {
            "tags": []
          },
          "execution_count": 50
        }
      ]
    },
    {
      "metadata": {
        "id": "93tS98dUDD7a",
        "colab_type": "text"
      },
      "cell_type": "markdown",
      "source": [
        "### 1.2 Index"
      ]
    },
    {
      "metadata": {
        "id": "WYWv4RP9DG6G",
        "colab_type": "code",
        "colab": {
          "base_uri": "https://localhost:8080/",
          "height": 730
        },
        "outputId": "904d1f5f-5437-4d83-cddc-f7d8e3a2023c"
      },
      "cell_type": "code",
      "source": [
        "boston_data.index.values"
      ],
      "execution_count": 51,
      "outputs": [
        {
          "output_type": "execute_result",
          "data": {
            "text/plain": [
              "array([  0,   1,   2,   3,   4,   5,   6,   7,   8,   9,  10,  11,  12,\n",
              "        13,  14,  15,  16,  17,  18,  19,  20,  21,  22,  23,  24,  25,\n",
              "        26,  27,  28,  29,  30,  31,  32,  33,  34,  35,  36,  37,  38,\n",
              "        39,  40,  41,  42,  43,  44,  45,  46,  47,  48,  49,  50,  51,\n",
              "        52,  53,  54,  55,  56,  57,  58,  59,  60,  61,  62,  63,  64,\n",
              "        65,  66,  67,  68,  69,  70,  71,  72,  73,  74,  75,  76,  77,\n",
              "        78,  79,  80,  81,  82,  83,  84,  85,  86,  87,  88,  89,  90,\n",
              "        91,  92,  93,  94,  95,  96,  97,  98,  99, 100, 101, 102, 103,\n",
              "       104, 105, 106, 107, 108, 109, 110, 111, 112, 113, 114, 115, 116,\n",
              "       117, 118, 119, 120, 121, 122, 123, 124, 125, 126, 127, 128, 129,\n",
              "       130, 131, 132, 133, 134, 135, 136, 137, 138, 139, 140, 141, 142,\n",
              "       143, 144, 145, 146, 147, 148, 149, 150, 151, 152, 153, 154, 155,\n",
              "       156, 157, 158, 159, 160, 161, 162, 163, 164, 165, 166, 167, 168,\n",
              "       169, 170, 171, 172, 173, 174, 175, 176, 177, 178, 179, 180, 181,\n",
              "       182, 183, 184, 185, 186, 187, 188, 189, 190, 191, 192, 193, 194,\n",
              "       195, 196, 197, 198, 199, 200, 201, 202, 203, 204, 205, 206, 207,\n",
              "       208, 209, 210, 211, 212, 213, 214, 215, 216, 217, 218, 219, 220,\n",
              "       221, 222, 223, 224, 225, 226, 227, 228, 229, 230, 231, 232, 233,\n",
              "       234, 235, 236, 237, 238, 239, 240, 241, 242, 243, 244, 245, 246,\n",
              "       247, 248, 249, 250, 251, 252, 253, 254, 255, 256, 257, 258, 259,\n",
              "       260, 261, 262, 263, 264, 265, 266, 267, 268, 269, 270, 271, 272,\n",
              "       273, 274, 275, 276, 277, 278, 279, 280, 281, 282, 283, 284, 285,\n",
              "       286, 287, 288, 289, 290, 291, 292, 293, 294, 295, 296, 297, 298,\n",
              "       299, 300, 301, 302, 303, 304, 305, 306, 307, 308, 309, 310, 311,\n",
              "       312, 313, 314, 315, 316, 317, 318, 319, 320, 321, 322, 323, 324,\n",
              "       325, 326, 327, 328, 329, 330, 331, 332, 333, 334, 335, 336, 337,\n",
              "       338, 339, 340, 341, 342, 343, 344, 345, 346, 347, 348, 349, 350,\n",
              "       351, 352, 353, 354, 355, 356, 357, 358, 359, 360, 361, 362, 363,\n",
              "       364, 365, 366, 367, 368, 369, 370, 371, 372, 373, 374, 375, 376,\n",
              "       377, 378, 379, 380, 381, 382, 383, 384, 385, 386, 387, 388, 389,\n",
              "       390, 391, 392, 393, 394, 395, 396, 397, 398, 399, 400, 401, 402,\n",
              "       403, 404, 405, 406, 407, 408, 409, 410, 411, 412, 413, 414, 415,\n",
              "       416, 417, 418, 419, 420, 421, 422, 423, 424, 425, 426, 427, 428,\n",
              "       429, 430, 431, 432, 433, 434, 435, 436, 437, 438, 439, 440, 441,\n",
              "       442, 443, 444, 445, 446, 447, 448, 449, 450, 451, 452, 453, 454,\n",
              "       455, 456, 457, 458, 459, 460, 461, 462, 463, 464, 465, 466, 467,\n",
              "       468, 469, 470, 471, 472, 473, 474, 475, 476, 477, 478, 479, 480,\n",
              "       481, 482, 483, 484, 485, 486, 487, 488, 489, 490, 491, 492, 493,\n",
              "       494, 495, 496, 497, 498, 499, 500, 501, 502, 503, 504, 505])"
            ]
          },
          "metadata": {
            "tags": []
          },
          "execution_count": 51
        }
      ]
    },
    {
      "metadata": {
        "id": "ExVKcWAa-YGd",
        "colab_type": "text"
      },
      "cell_type": "markdown",
      "source": [
        "### 1.3 Shape"
      ]
    },
    {
      "metadata": {
        "id": "TCvGE0dT9pXW",
        "colab_type": "code",
        "colab": {
          "base_uri": "https://localhost:8080/",
          "height": 54
        },
        "outputId": "edf9d9af-626a-4364-cdcd-8043028bb6eb"
      },
      "cell_type": "code",
      "source": [
        "boston_data.shape"
      ],
      "execution_count": 52,
      "outputs": [
        {
          "output_type": "execute_result",
          "data": {
            "text/plain": [
              "(506, 14)"
            ]
          },
          "metadata": {
            "tags": []
          },
          "execution_count": 52
        }
      ]
    },
    {
      "metadata": {
        "id": "1esyMnPI-87H",
        "colab_type": "text"
      },
      "cell_type": "markdown",
      "source": [
        "### 1.4 Summary statistics"
      ]
    },
    {
      "metadata": {
        "id": "I3H47bGa_AVn",
        "colab_type": "code",
        "colab": {
          "base_uri": "https://localhost:8080/",
          "height": 307
        },
        "outputId": "944105c5-22e7-48de-ecf4-ae7fd44753ab"
      },
      "cell_type": "code",
      "source": [
        "boston_data.describe()"
      ],
      "execution_count": 53,
      "outputs": [
        {
          "output_type": "execute_result",
          "data": {
            "text/html": [
              "<div>\n",
              "<style scoped>\n",
              "    .dataframe tbody tr th:only-of-type {\n",
              "        vertical-align: middle;\n",
              "    }\n",
              "\n",
              "    .dataframe tbody tr th {\n",
              "        vertical-align: top;\n",
              "    }\n",
              "\n",
              "    .dataframe thead th {\n",
              "        text-align: right;\n",
              "    }\n",
              "</style>\n",
              "<table border=\"1\" class=\"dataframe\">\n",
              "  <thead>\n",
              "    <tr style=\"text-align: right;\">\n",
              "      <th></th>\n",
              "      <th>CRIM</th>\n",
              "      <th>ZN</th>\n",
              "      <th>INDUS</th>\n",
              "      <th>CHAS</th>\n",
              "      <th>NOX</th>\n",
              "      <th>RM</th>\n",
              "      <th>AGE</th>\n",
              "      <th>DIS</th>\n",
              "      <th>RAD</th>\n",
              "      <th>TAX</th>\n",
              "      <th>PTRATIO</th>\n",
              "      <th>B</th>\n",
              "      <th>LSTAT</th>\n",
              "      <th>MEDV</th>\n",
              "    </tr>\n",
              "  </thead>\n",
              "  <tbody>\n",
              "    <tr>\n",
              "      <th>count</th>\n",
              "      <td>506.000000</td>\n",
              "      <td>506.000000</td>\n",
              "      <td>506.000000</td>\n",
              "      <td>506.000000</td>\n",
              "      <td>506.000000</td>\n",
              "      <td>506.000000</td>\n",
              "      <td>506.000000</td>\n",
              "      <td>506.000000</td>\n",
              "      <td>506.000000</td>\n",
              "      <td>506.000000</td>\n",
              "      <td>506.000000</td>\n",
              "      <td>506.000000</td>\n",
              "      <td>506.000000</td>\n",
              "      <td>506.000000</td>\n",
              "    </tr>\n",
              "    <tr>\n",
              "      <th>mean</th>\n",
              "      <td>3.593761</td>\n",
              "      <td>11.363636</td>\n",
              "      <td>11.136779</td>\n",
              "      <td>0.069170</td>\n",
              "      <td>0.554695</td>\n",
              "      <td>6.284634</td>\n",
              "      <td>68.574901</td>\n",
              "      <td>3.795043</td>\n",
              "      <td>9.549407</td>\n",
              "      <td>408.237154</td>\n",
              "      <td>18.455534</td>\n",
              "      <td>356.674032</td>\n",
              "      <td>12.653063</td>\n",
              "      <td>22.532806</td>\n",
              "    </tr>\n",
              "    <tr>\n",
              "      <th>std</th>\n",
              "      <td>8.596783</td>\n",
              "      <td>23.322453</td>\n",
              "      <td>6.860353</td>\n",
              "      <td>0.253994</td>\n",
              "      <td>0.115878</td>\n",
              "      <td>0.702617</td>\n",
              "      <td>28.148861</td>\n",
              "      <td>2.105710</td>\n",
              "      <td>8.707259</td>\n",
              "      <td>168.537116</td>\n",
              "      <td>2.164946</td>\n",
              "      <td>91.294864</td>\n",
              "      <td>7.141062</td>\n",
              "      <td>9.197104</td>\n",
              "    </tr>\n",
              "    <tr>\n",
              "      <th>min</th>\n",
              "      <td>0.006320</td>\n",
              "      <td>0.000000</td>\n",
              "      <td>0.460000</td>\n",
              "      <td>0.000000</td>\n",
              "      <td>0.385000</td>\n",
              "      <td>3.561000</td>\n",
              "      <td>2.900000</td>\n",
              "      <td>1.129600</td>\n",
              "      <td>1.000000</td>\n",
              "      <td>187.000000</td>\n",
              "      <td>12.600000</td>\n",
              "      <td>0.320000</td>\n",
              "      <td>1.730000</td>\n",
              "      <td>5.000000</td>\n",
              "    </tr>\n",
              "    <tr>\n",
              "      <th>25%</th>\n",
              "      <td>0.082045</td>\n",
              "      <td>0.000000</td>\n",
              "      <td>5.190000</td>\n",
              "      <td>0.000000</td>\n",
              "      <td>0.449000</td>\n",
              "      <td>5.885500</td>\n",
              "      <td>45.025000</td>\n",
              "      <td>2.100175</td>\n",
              "      <td>4.000000</td>\n",
              "      <td>279.000000</td>\n",
              "      <td>17.400000</td>\n",
              "      <td>375.377500</td>\n",
              "      <td>6.950000</td>\n",
              "      <td>17.025000</td>\n",
              "    </tr>\n",
              "    <tr>\n",
              "      <th>50%</th>\n",
              "      <td>0.256510</td>\n",
              "      <td>0.000000</td>\n",
              "      <td>9.690000</td>\n",
              "      <td>0.000000</td>\n",
              "      <td>0.538000</td>\n",
              "      <td>6.208500</td>\n",
              "      <td>77.500000</td>\n",
              "      <td>3.207450</td>\n",
              "      <td>5.000000</td>\n",
              "      <td>330.000000</td>\n",
              "      <td>19.050000</td>\n",
              "      <td>391.440000</td>\n",
              "      <td>11.360000</td>\n",
              "      <td>21.200000</td>\n",
              "    </tr>\n",
              "    <tr>\n",
              "      <th>75%</th>\n",
              "      <td>3.647423</td>\n",
              "      <td>12.500000</td>\n",
              "      <td>18.100000</td>\n",
              "      <td>0.000000</td>\n",
              "      <td>0.624000</td>\n",
              "      <td>6.623500</td>\n",
              "      <td>94.075000</td>\n",
              "      <td>5.188425</td>\n",
              "      <td>24.000000</td>\n",
              "      <td>666.000000</td>\n",
              "      <td>20.200000</td>\n",
              "      <td>396.225000</td>\n",
              "      <td>16.955000</td>\n",
              "      <td>25.000000</td>\n",
              "    </tr>\n",
              "    <tr>\n",
              "      <th>max</th>\n",
              "      <td>88.976200</td>\n",
              "      <td>100.000000</td>\n",
              "      <td>27.740000</td>\n",
              "      <td>1.000000</td>\n",
              "      <td>0.871000</td>\n",
              "      <td>8.780000</td>\n",
              "      <td>100.000000</td>\n",
              "      <td>12.126500</td>\n",
              "      <td>24.000000</td>\n",
              "      <td>711.000000</td>\n",
              "      <td>22.000000</td>\n",
              "      <td>396.900000</td>\n",
              "      <td>37.970000</td>\n",
              "      <td>50.000000</td>\n",
              "    </tr>\n",
              "  </tbody>\n",
              "</table>\n",
              "</div>"
            ],
            "text/plain": [
              "             CRIM          ZN       INDUS        CHAS         NOX          RM  \\\n",
              "count  506.000000  506.000000  506.000000  506.000000  506.000000  506.000000   \n",
              "mean     3.593761   11.363636   11.136779    0.069170    0.554695    6.284634   \n",
              "std      8.596783   23.322453    6.860353    0.253994    0.115878    0.702617   \n",
              "min      0.006320    0.000000    0.460000    0.000000    0.385000    3.561000   \n",
              "25%      0.082045    0.000000    5.190000    0.000000    0.449000    5.885500   \n",
              "50%      0.256510    0.000000    9.690000    0.000000    0.538000    6.208500   \n",
              "75%      3.647423   12.500000   18.100000    0.000000    0.624000    6.623500   \n",
              "max     88.976200  100.000000   27.740000    1.000000    0.871000    8.780000   \n",
              "\n",
              "              AGE         DIS         RAD         TAX     PTRATIO           B  \\\n",
              "count  506.000000  506.000000  506.000000  506.000000  506.000000  506.000000   \n",
              "mean    68.574901    3.795043    9.549407  408.237154   18.455534  356.674032   \n",
              "std     28.148861    2.105710    8.707259  168.537116    2.164946   91.294864   \n",
              "min      2.900000    1.129600    1.000000  187.000000   12.600000    0.320000   \n",
              "25%     45.025000    2.100175    4.000000  279.000000   17.400000  375.377500   \n",
              "50%     77.500000    3.207450    5.000000  330.000000   19.050000  391.440000   \n",
              "75%     94.075000    5.188425   24.000000  666.000000   20.200000  396.225000   \n",
              "max    100.000000   12.126500   24.000000  711.000000   22.000000  396.900000   \n",
              "\n",
              "            LSTAT        MEDV  \n",
              "count  506.000000  506.000000  \n",
              "mean    12.653063   22.532806  \n",
              "std      7.141062    9.197104  \n",
              "min      1.730000    5.000000  \n",
              "25%      6.950000   17.025000  \n",
              "50%     11.360000   21.200000  \n",
              "75%     16.955000   25.000000  \n",
              "max     37.970000   50.000000  "
            ]
          },
          "metadata": {
            "tags": []
          },
          "execution_count": 53
        }
      ]
    },
    {
      "metadata": {
        "id": "Fd2CpK0cAGN0",
        "colab_type": "text"
      },
      "cell_type": "markdown",
      "source": [
        "### 1.5 Data types"
      ]
    },
    {
      "metadata": {
        "id": "moAtnf4zAKh3",
        "colab_type": "code",
        "colab": {
          "base_uri": "https://localhost:8080/",
          "height": 303
        },
        "outputId": "7edfe4d1-324c-4f59-ba04-04d0447e0484"
      },
      "cell_type": "code",
      "source": [
        "boston_data.dtypes"
      ],
      "execution_count": 54,
      "outputs": [
        {
          "output_type": "execute_result",
          "data": {
            "text/plain": [
              "CRIM       float64\n",
              "ZN         float64\n",
              "INDUS      float64\n",
              "CHAS       float64\n",
              "NOX        float64\n",
              "RM         float64\n",
              "AGE        float64\n",
              "DIS        float64\n",
              "RAD        float64\n",
              "TAX        float64\n",
              "PTRATIO    float64\n",
              "B          float64\n",
              "LSTAT      float64\n",
              "MEDV       float64\n",
              "dtype: object"
            ]
          },
          "metadata": {
            "tags": []
          },
          "execution_count": 54
        }
      ]
    },
    {
      "metadata": {
        "id": "FHWqw_9IAp-T",
        "colab_type": "text"
      },
      "cell_type": "markdown",
      "source": [
        "### 1.6 Number of unique values for each column"
      ]
    },
    {
      "metadata": {
        "id": "B9HJuY6hAvB7",
        "colab_type": "code",
        "colab": {
          "base_uri": "https://localhost:8080/",
          "height": 303
        },
        "outputId": "c4b59e2d-8c6d-4ce3-cc62-b65df12bccec"
      },
      "cell_type": "code",
      "source": [
        "boston_data.nunique()"
      ],
      "execution_count": 55,
      "outputs": [
        {
          "output_type": "execute_result",
          "data": {
            "text/plain": [
              "CRIM       504\n",
              "ZN          26\n",
              "INDUS       76\n",
              "CHAS         2\n",
              "NOX         81\n",
              "RM         446\n",
              "AGE        356\n",
              "DIS        412\n",
              "RAD          9\n",
              "TAX         66\n",
              "PTRATIO     46\n",
              "B          357\n",
              "LSTAT      455\n",
              "MEDV       229\n",
              "dtype: int64"
            ]
          },
          "metadata": {
            "tags": []
          },
          "execution_count": 55
        }
      ]
    },
    {
      "metadata": {
        "id": "3Kzx1LT8FM9Y",
        "colab_type": "text"
      },
      "cell_type": "markdown",
      "source": [
        "### 1.7 First 5 records"
      ]
    },
    {
      "metadata": {
        "id": "VigKwO-AFRD8",
        "colab_type": "code",
        "colab": {
          "base_uri": "https://localhost:8080/",
          "height": 217
        },
        "outputId": "606ca0e3-9427-40ad-c203-700f99c2a350"
      },
      "cell_type": "code",
      "source": [
        "boston_data.head(5)"
      ],
      "execution_count": 56,
      "outputs": [
        {
          "output_type": "execute_result",
          "data": {
            "text/html": [
              "<div>\n",
              "<style scoped>\n",
              "    .dataframe tbody tr th:only-of-type {\n",
              "        vertical-align: middle;\n",
              "    }\n",
              "\n",
              "    .dataframe tbody tr th {\n",
              "        vertical-align: top;\n",
              "    }\n",
              "\n",
              "    .dataframe thead th {\n",
              "        text-align: right;\n",
              "    }\n",
              "</style>\n",
              "<table border=\"1\" class=\"dataframe\">\n",
              "  <thead>\n",
              "    <tr style=\"text-align: right;\">\n",
              "      <th></th>\n",
              "      <th>CRIM</th>\n",
              "      <th>ZN</th>\n",
              "      <th>INDUS</th>\n",
              "      <th>CHAS</th>\n",
              "      <th>NOX</th>\n",
              "      <th>RM</th>\n",
              "      <th>AGE</th>\n",
              "      <th>DIS</th>\n",
              "      <th>RAD</th>\n",
              "      <th>TAX</th>\n",
              "      <th>PTRATIO</th>\n",
              "      <th>B</th>\n",
              "      <th>LSTAT</th>\n",
              "      <th>MEDV</th>\n",
              "    </tr>\n",
              "  </thead>\n",
              "  <tbody>\n",
              "    <tr>\n",
              "      <th>0</th>\n",
              "      <td>0.00632</td>\n",
              "      <td>18.0</td>\n",
              "      <td>2.31</td>\n",
              "      <td>0.0</td>\n",
              "      <td>0.538</td>\n",
              "      <td>6.575</td>\n",
              "      <td>65.2</td>\n",
              "      <td>4.0900</td>\n",
              "      <td>1.0</td>\n",
              "      <td>296.0</td>\n",
              "      <td>15.3</td>\n",
              "      <td>396.90</td>\n",
              "      <td>4.98</td>\n",
              "      <td>24.0</td>\n",
              "    </tr>\n",
              "    <tr>\n",
              "      <th>1</th>\n",
              "      <td>0.02731</td>\n",
              "      <td>0.0</td>\n",
              "      <td>7.07</td>\n",
              "      <td>0.0</td>\n",
              "      <td>0.469</td>\n",
              "      <td>6.421</td>\n",
              "      <td>78.9</td>\n",
              "      <td>4.9671</td>\n",
              "      <td>2.0</td>\n",
              "      <td>242.0</td>\n",
              "      <td>17.8</td>\n",
              "      <td>396.90</td>\n",
              "      <td>9.14</td>\n",
              "      <td>21.6</td>\n",
              "    </tr>\n",
              "    <tr>\n",
              "      <th>2</th>\n",
              "      <td>0.02729</td>\n",
              "      <td>0.0</td>\n",
              "      <td>7.07</td>\n",
              "      <td>0.0</td>\n",
              "      <td>0.469</td>\n",
              "      <td>7.185</td>\n",
              "      <td>61.1</td>\n",
              "      <td>4.9671</td>\n",
              "      <td>2.0</td>\n",
              "      <td>242.0</td>\n",
              "      <td>17.8</td>\n",
              "      <td>392.83</td>\n",
              "      <td>4.03</td>\n",
              "      <td>34.7</td>\n",
              "    </tr>\n",
              "    <tr>\n",
              "      <th>3</th>\n",
              "      <td>0.03237</td>\n",
              "      <td>0.0</td>\n",
              "      <td>2.18</td>\n",
              "      <td>0.0</td>\n",
              "      <td>0.458</td>\n",
              "      <td>6.998</td>\n",
              "      <td>45.8</td>\n",
              "      <td>6.0622</td>\n",
              "      <td>3.0</td>\n",
              "      <td>222.0</td>\n",
              "      <td>18.7</td>\n",
              "      <td>394.63</td>\n",
              "      <td>2.94</td>\n",
              "      <td>33.4</td>\n",
              "    </tr>\n",
              "    <tr>\n",
              "      <th>4</th>\n",
              "      <td>0.06905</td>\n",
              "      <td>0.0</td>\n",
              "      <td>2.18</td>\n",
              "      <td>0.0</td>\n",
              "      <td>0.458</td>\n",
              "      <td>7.147</td>\n",
              "      <td>54.2</td>\n",
              "      <td>6.0622</td>\n",
              "      <td>3.0</td>\n",
              "      <td>222.0</td>\n",
              "      <td>18.7</td>\n",
              "      <td>396.90</td>\n",
              "      <td>5.33</td>\n",
              "      <td>36.2</td>\n",
              "    </tr>\n",
              "  </tbody>\n",
              "</table>\n",
              "</div>"
            ],
            "text/plain": [
              "      CRIM    ZN  INDUS  CHAS    NOX     RM   AGE     DIS  RAD    TAX  \\\n",
              "0  0.00632  18.0   2.31   0.0  0.538  6.575  65.2  4.0900  1.0  296.0   \n",
              "1  0.02731   0.0   7.07   0.0  0.469  6.421  78.9  4.9671  2.0  242.0   \n",
              "2  0.02729   0.0   7.07   0.0  0.469  7.185  61.1  4.9671  2.0  242.0   \n",
              "3  0.03237   0.0   2.18   0.0  0.458  6.998  45.8  6.0622  3.0  222.0   \n",
              "4  0.06905   0.0   2.18   0.0  0.458  7.147  54.2  6.0622  3.0  222.0   \n",
              "\n",
              "   PTRATIO       B  LSTAT  MEDV  \n",
              "0     15.3  396.90   4.98  24.0  \n",
              "1     17.8  396.90   9.14  21.6  \n",
              "2     17.8  392.83   4.03  34.7  \n",
              "3     18.7  394.63   2.94  33.4  \n",
              "4     18.7  396.90   5.33  36.2  "
            ]
          },
          "metadata": {
            "tags": []
          },
          "execution_count": 56
        }
      ]
    },
    {
      "metadata": {
        "id": "vsa5kdfYGnXl",
        "colab_type": "text"
      },
      "cell_type": "markdown",
      "source": [
        "## 2. Pick 3-4 predictors (i.e. CRIM, ZN, etc...) that you will use to predict our target variable, MEDV."
      ]
    },
    {
      "metadata": {
        "id": "szYyDmB5GucP",
        "colab_type": "text"
      },
      "cell_type": "markdown",
      "source": [
        "*Score and plot your predictions. What do these results tell us?*"
      ]
    },
    {
      "metadata": {
        "id": "Hv5QNhGrJf2v",
        "colab_type": "text"
      },
      "cell_type": "markdown",
      "source": [
        "### 2.1 Picking Predictors."
      ]
    },
    {
      "metadata": {
        "id": "BQXF6i1AIfdq",
        "colab_type": "text"
      },
      "cell_type": "markdown",
      "source": [
        "Following 4 predictors will be used to predict target variable, MEDV: \n",
        "\n",
        "*   CRIM - per capita crime rate by town\n",
        "*   DIS - weighted distances to five Boston employment centres\n",
        "*   RM - average number of rooms per dwelling\n",
        "*   LSTAT - % lower status of the population"
      ]
    },
    {
      "metadata": {
        "id": "HhHw87eFHFl1",
        "colab_type": "code",
        "colab": {}
      },
      "cell_type": "code",
      "source": [
        "feature_cols = ['CRIM', 'DIS', 'RM', 'LSTAT']"
      ],
      "execution_count": 0,
      "outputs": []
    },
    {
      "metadata": {
        "id": "48vSbfTEZr5s",
        "colab_type": "text"
      },
      "cell_type": "markdown",
      "source": [
        "### 2.2 Visualizing linear relationship between predictors and target variable."
      ]
    },
    {
      "metadata": {
        "id": "6ZyAmjsYRtjl",
        "colab_type": "code",
        "colab": {
          "base_uri": "https://localhost:8080/",
          "height": 384
        },
        "outputId": "32135860-c985-4ea1-acf2-70e97aacb898"
      },
      "cell_type": "code",
      "source": [
        "sns.pairplot(boston_data, x_vars=feature_cols, y_vars=[\"MEDV\"],\n",
        "             size=5, aspect=.8, kind=\"reg\");"
      ],
      "execution_count": 58,
      "outputs": [
        {
          "output_type": "display_data",
          "data": {
            "image/png": "[encoded data removed]",
            "text/plain": [
              "<matplotlib.figure.Figure at 0x7f8c5babae48>"
            ]
          },
          "metadata": {
            "tags": []
          }
        }
      ]
    },
    {
      "metadata": {
        "id": "S0KfIRuKI9hT",
        "colab_type": "text"
      },
      "cell_type": "markdown",
      "source": [
        "### 2.3 Instantiating and fitting LinearRegression"
      ]
    },
    {
      "metadata": {
        "id": "i9CTIhjWI-4v",
        "colab_type": "code",
        "colab": {
          "base_uri": "https://localhost:8080/",
          "height": 72
        },
        "outputId": "5b8aecc5-53f2-4c00-a4ca-396976e573cd"
      },
      "cell_type": "code",
      "source": [
        "# Creating X and y.\n",
        "X = boston_data[feature_cols]\n",
        "y = boston_data.MEDV\n",
        "\n",
        "# Instantiating and fitting\n",
        "linreg = LinearRegression()\n",
        "linreg.fit(X, y)\n",
        "\n",
        "# Printing the coefficients\n",
        "print(linreg.intercept_)\n",
        "print(linreg.coef_)"
      ],
      "execution_count": 59,
      "outputs": [
        {
          "output_type": "stream",
          "text": [
            "2.2948321121763904\n",
            "[-0.12617752 -0.56187533  4.96787566 -0.66367449]\n"
          ],
          "name": "stdout"
        }
      ]
    },
    {
      "metadata": {
        "id": "htyWsiSnK1Ke",
        "colab_type": "text"
      },
      "cell_type": "markdown",
      "source": [
        "### 2.4 Displaying the linear regression coefficients along with the predictor names."
      ]
    },
    {
      "metadata": {
        "id": "hpQ_mZ-WK4kl",
        "colab_type": "code",
        "colab": {
          "base_uri": "https://localhost:8080/",
          "height": 107
        },
        "outputId": "b771dc67-b25c-46d9-8e7c-6d3cdf643b14"
      },
      "cell_type": "code",
      "source": [
        "list(zip(feature_cols, linreg.coef_))"
      ],
      "execution_count": 60,
      "outputs": [
        {
          "output_type": "execute_result",
          "data": {
            "text/plain": [
              "[('CRIM', -0.1261775192775941),\n",
              " ('DIS', -0.5618753347125877),\n",
              " ('RM', 4.967875659632497),\n",
              " ('LSTAT', -0.6636744904208245)]"
            ]
          },
          "metadata": {
            "tags": []
          },
          "execution_count": 60
        }
      ]
    },
    {
      "metadata": {
        "id": "8HXWiHjWLhw0",
        "colab_type": "text"
      },
      "cell_type": "markdown",
      "source": [
        "### 2.5 Interpreting the coefficients."
      ]
    },
    {
      "metadata": {
        "id": "BvcohjU4MleK",
        "colab_type": "text"
      },
      "cell_type": "markdown",
      "source": [
        "*   1-unit increase in **per capita crime rate by town** is associated with a decrease of 0.12 in median value of owner-occupied homes\n",
        "\n",
        "*   1-unit increase in **weighted distances to five Boston employment centres** is associated with a decrease of 0.56 in median value of owner-occupied homes\n",
        "\n",
        "*   1-unit increase in **average number of rooms per dwelling** is associated with a increase of 4.9 in median value of owner-occupied homes\n",
        "\n",
        "*   1-unit increase in **% lower status of the population** is associated with a decrease of 0.66 in median value of owner-occupied homes"
      ]
    },
    {
      "metadata": {
        "id": "IBowMNUAWh67",
        "colab_type": "text"
      },
      "cell_type": "markdown",
      "source": [
        "## 3. Try 70/30 and 90/10 train/test splits (70% of the data for training - 30% for testing, then 90% for training - 10% for testing)"
      ]
    },
    {
      "metadata": {
        "id": "NdPmIcJOWnlZ",
        "colab_type": "text"
      },
      "cell_type": "markdown",
      "source": [
        "*Score and plot. How do your metrics change? What does this tell us about the size of training/testing splits?*"
      ]
    },
    {
      "metadata": {
        "id": "_whr7gVwXWLy",
        "colab_type": "text"
      },
      "cell_type": "markdown",
      "source": [
        "### 3.1 Train/Test split 1 - 70/30"
      ]
    },
    {
      "metadata": {
        "id": "705gpEunbyZe",
        "colab_type": "text"
      },
      "cell_type": "markdown",
      "source": [
        "#### 3.1.1 Splitting X and y into training and testing sets"
      ]
    },
    {
      "metadata": {
        "id": "qa71FZjVW71e",
        "colab_type": "code",
        "colab": {}
      },
      "cell_type": "code",
      "source": [
        "X_train, X_test, y_train, y_test = train_test_split(X, y, test_size=0.3, random_state=1)"
      ],
      "execution_count": 0,
      "outputs": []
    },
    {
      "metadata": {
        "id": "8yn6r4VAW85U",
        "colab_type": "code",
        "colab": {
          "base_uri": "https://localhost:8080/",
          "height": 90
        },
        "outputId": "496142c1-be3f-4142-8ebf-df9509e4a31f"
      },
      "cell_type": "code",
      "source": [
        "# Before splitting\n",
        "print(X.shape)\n",
        "\n",
        "# After splitting\n",
        "print (X_train.shape, y_train.shape)\n",
        "print (X_test.shape, y_test.shape)"
      ],
      "execution_count": 62,
      "outputs": [
        {
          "output_type": "stream",
          "text": [
            "(506, 4)\n",
            "(354, 4) (354,)\n",
            "(152, 4) (152,)\n"
          ],
          "name": "stdout"
        }
      ]
    },
    {
      "metadata": {
        "id": "IztjCkSXb_Xq",
        "colab_type": "text"
      },
      "cell_type": "markdown",
      "source": [
        "#### 3.1.2 Training the model on the training set."
      ]
    },
    {
      "metadata": {
        "id": "ap51c5BqXL9q",
        "colab_type": "code",
        "colab": {}
      },
      "cell_type": "code",
      "source": [
        "lr = LinearRegression()\n",
        "model = lr.fit(X_train, y_train)"
      ],
      "execution_count": 0,
      "outputs": []
    },
    {
      "metadata": {
        "id": "_nqEPSfrcRgV",
        "colab_type": "text"
      },
      "cell_type": "markdown",
      "source": [
        "#### 3.1.3 Testing the model on the testing set and checking the accuracy"
      ]
    },
    {
      "metadata": {
        "id": "0K37gLSJcXXh",
        "colab_type": "code",
        "colab": {
          "base_uri": "https://localhost:8080/",
          "height": 72
        },
        "outputId": "4d93bebb-7671-44b0-ea09-24c78e5d77b8"
      },
      "cell_type": "code",
      "source": [
        "y_pred = lr.predict(X_test)\n",
        "\n",
        "print(metrics.mean_squared_error(y_train, lr.predict(X_train)))\n",
        "print(metrics.mean_squared_error(y_test, y_pred))"
      ],
      "execution_count": 64,
      "outputs": [
        {
          "output_type": "stream",
          "text": [
            "30.74801440731733\n",
            "26.00513621480124\n"
          ],
          "name": "stdout"
        }
      ]
    },
    {
      "metadata": {
        "id": "vKQI1OBVfxmO",
        "colab_type": "text"
      },
      "cell_type": "markdown",
      "source": [
        "#### 3.1.4 Plotting the model"
      ]
    },
    {
      "metadata": {
        "id": "7-Dzj5S3aqow",
        "colab_type": "code",
        "colab": {
          "base_uri": "https://localhost:8080/",
          "height": 298
        },
        "outputId": "b3b1d55b-ceaa-47c5-d9d0-90ead010d882"
      },
      "cell_type": "code",
      "source": [
        "plt.scatter(y_test, y_pred);\n",
        "plt.xlabel(\"True Values\");\n",
        "plt.ylabel(\"Predictions\");"
      ],
      "execution_count": 65,
      "outputs": [
        {
          "output_type": "display_data",
          "data": {
            "image/png": "[encoded data removed]",
            "text/plain": [
              "<matplotlib.figure.Figure at 0x7f8c5bab99e8>"
            ]
          },
          "metadata": {
            "tags": []
          }
        }
      ]
    },
    {
      "metadata": {
        "id": "0Fv6NaWJn4fA",
        "colab_type": "text"
      },
      "cell_type": "markdown",
      "source": [
        "### 3.2 Train/Test split 2 - 90/10"
      ]
    },
    {
      "metadata": {
        "id": "MSgvMQ8ooAYo",
        "colab_type": "text"
      },
      "cell_type": "markdown",
      "source": [
        "#### 3.2.1 Splitting X and y into training and testing sets"
      ]
    },
    {
      "metadata": {
        "id": "nuh3LO69oDyn",
        "colab_type": "code",
        "colab": {}
      },
      "cell_type": "code",
      "source": [
        "X1_train, X1_test, y1_train, y1_test = train_test_split(X, y, test_size=0.1, random_state=1)"
      ],
      "execution_count": 0,
      "outputs": []
    },
    {
      "metadata": {
        "id": "UlRaPpFyoe6c",
        "colab_type": "code",
        "colab": {
          "base_uri": "https://localhost:8080/",
          "height": 90
        },
        "outputId": "1354e0e5-e4a9-40c2-ded7-42c654d580f9"
      },
      "cell_type": "code",
      "source": [
        "# Before splitting\n",
        "print(X.shape)\n",
        "\n",
        "# After splitting\n",
        "print (X1_train.shape, y1_train.shape)\n",
        "print (X1_test.shape, y1_test.shape)"
      ],
      "execution_count": 67,
      "outputs": [
        {
          "output_type": "stream",
          "text": [
            "(506, 4)\n",
            "(455, 4) (455,)\n",
            "(51, 4) (51,)\n"
          ],
          "name": "stdout"
        }
      ]
    },
    {
      "metadata": {
        "id": "0wVp6Q6koSZo",
        "colab_type": "text"
      },
      "cell_type": "markdown",
      "source": [
        "#### 3.2.2 Training the model on the training set"
      ]
    },
    {
      "metadata": {
        "id": "t8aFF_JoojkI",
        "colab_type": "code",
        "colab": {}
      },
      "cell_type": "code",
      "source": [
        "lr2 = LinearRegression()\n",
        "model = lr2.fit(X1_train, y1_train)"
      ],
      "execution_count": 0,
      "outputs": []
    },
    {
      "metadata": {
        "id": "ghpejWIeo5Im",
        "colab_type": "text"
      },
      "cell_type": "markdown",
      "source": [
        "#### 3.2.3 Testing the model on the testing set and checking the accuracy"
      ]
    },
    {
      "metadata": {
        "id": "N_Osgejeo6NV",
        "colab_type": "code",
        "colab": {
          "base_uri": "https://localhost:8080/",
          "height": 72
        },
        "outputId": "650306e6-980d-45e4-aa5b-c0d47c4554fd"
      },
      "cell_type": "code",
      "source": [
        "y1_pred = lr2.predict(X1_test)\n",
        "\n",
        "print(metrics.mean_squared_error(y1_train, lr2.predict(X1_train)))\n",
        "print(metrics.mean_squared_error(y1_test, y1_pred))"
      ],
      "execution_count": 69,
      "outputs": [
        {
          "output_type": "stream",
          "text": [
            "29.278853236996113\n",
            "26.022505854716307\n"
          ],
          "name": "stdout"
        }
      ]
    },
    {
      "metadata": {
        "id": "W3Q6cdLCpKc1",
        "colab_type": "text"
      },
      "cell_type": "markdown",
      "source": [
        "#### 3.2.4 Plotting the model"
      ]
    },
    {
      "metadata": {
        "id": "aM3yxG4PpM4w",
        "colab_type": "code",
        "colab": {
          "base_uri": "https://localhost:8080/",
          "height": 298
        },
        "outputId": "b550c6c1-4ea4-4f67-e012-93e71b802c04"
      },
      "cell_type": "code",
      "source": [
        "plt.scatter(y1_test, y1_pred);\n",
        "plt.xlabel(\"True Values\");\n",
        "plt.ylabel(\"Predictions\");"
      ],
      "execution_count": 70,
      "outputs": [
        {
          "output_type": "display_data",
          "data": {
            "image/png": "[encoded data removed]",
            "text/plain": [
              "<matplotlib.figure.Figure at 0x7f8c5b5035f8>"
            ]
          },
          "metadata": {
            "tags": []
          }
        }
      ]
    },
    {
      "metadata": {
        "id": "ygCxLcZmqUhJ",
        "colab_type": "text"
      },
      "cell_type": "markdown",
      "source": [
        "## 4. Use k-fold cross validation varying the number of folds from 5 to 10"
      ]
    },
    {
      "metadata": {
        "id": "_b-F9s-Uqdm6",
        "colab_type": "text"
      },
      "cell_type": "markdown",
      "source": [
        "*What seems optimal? How do your scores change? What is the variance like? Try different folds to get a sense of how this impacts your score. What are the tradeoffs associated with choosing the number of folds?*"
      ]
    },
    {
      "metadata": {
        "id": "6Gut-YsEtCnd",
        "colab_type": "text"
      },
      "cell_type": "markdown",
      "source": [
        "### 4.1 Creating a cross-valiation with 5 folds"
      ]
    },
    {
      "metadata": {
        "id": "VcumI9CQtGgP",
        "colab_type": "code",
        "colab": {
          "base_uri": "https://localhost:8080/",
          "height": 443
        },
        "outputId": "7170ab29-d944-4c8b-c182-75fc4918b3eb"
      },
      "cell_type": "code",
      "source": [
        "kf = model_selection.KFold(n_splits=5, shuffle=True)\n",
        "mse_values = []\n",
        "scores = []\n",
        "n = 0\n",
        "\n",
        "for train_index, test_index in kf.split(X, y):\n",
        "    lr = LinearRegression().fit(X.iloc[train_index], y.iloc[train_index])\n",
        "    \n",
        "    mse_values.append(metrics.mean_squared_error(y.iloc[test_index], lr.predict(X.iloc[test_index])))\n",
        "    scores.append(lr.score(X, y))\n",
        "    \n",
        "    n += 1\n",
        "    \n",
        "    print('Model {}'.format(n))\n",
        "    print('MSE: {}'.format(mse_values[n-1]))\n",
        "    print('R2: {}\\n'.format(scores[n-1]))\n",
        "\n",
        "\n",
        "print(\"Summary\")\n",
        "print(\"---------------------------------------------\")\n",
        "print('Mean of MSE for all folds: {}'.format(np.mean(mse_values)))\n",
        "print('Mean of R2 for all folds: {}'.format(np.mean(scores)))"
      ],
      "execution_count": 71,
      "outputs": [
        {
          "output_type": "stream",
          "text": [
            "Model 1\n",
            "MSE: 37.5006244461674\n",
            "R2: 0.6541417904326448\n",
            "\n",
            "Model 2\n",
            "MSE: 25.861578040365252\n",
            "R2: 0.6553014795613292\n",
            "\n",
            "Model 3\n",
            "MSE: 26.889542375696724\n",
            "R2: 0.6564991855417522\n",
            "\n",
            "Model 4\n",
            "MSE: 25.46057524727142\n",
            "R2: 0.656697536048829\n",
            "\n",
            "Model 5\n",
            "MSE: 39.16668362538615\n",
            "R2: 0.6501938572125296\n",
            "\n",
            "Summary\n",
            "---------------------------------------------\n",
            "Mean of MSE for all folds: 30.975800746977388\n",
            "Mean of R2 for all folds: 0.654566769759417\n"
          ],
          "name": "stdout"
        }
      ]
    },
    {
      "metadata": {
        "id": "sPLGSy5X5Cti",
        "colab_type": "text"
      },
      "cell_type": "markdown",
      "source": [
        "### 4.2 Cross-validation with 10 folds"
      ]
    },
    {
      "metadata": {
        "id": "-IIPS12mtK9a",
        "colab_type": "code",
        "colab": {
          "base_uri": "https://localhost:8080/",
          "height": 818
        },
        "outputId": "2fc95666-6574-4dfa-8989-06e852306aa3"
      },
      "cell_type": "code",
      "source": [
        "kf = model_selection.KFold(n_splits=10, shuffle=True)\n",
        "mse_values = []\n",
        "scores = []\n",
        "n = 0\n",
        "\n",
        "for train_index, test_index in kf.split(X, y):\n",
        "    lr = LinearRegression().fit(X.iloc[train_index], y.iloc[train_index])\n",
        "    \n",
        "    mse_values.append(metrics.mean_squared_error(y.iloc[test_index], lr.predict(X.iloc[test_index])))\n",
        "    scores.append(lr.score(X, y))\n",
        "    \n",
        "    n += 1\n",
        "    \n",
        "    print('Model {}'.format(n))\n",
        "    print('MSE: {}'.format(mse_values[n-1]))\n",
        "    print('R2: {}\\n'.format(scores[n-1]))\n",
        "\n",
        "\n",
        "print(\"Summary\")\n",
        "print(\"---------------------------------------------\")\n",
        "print('Mean of MSE for all folds: {}'.format(np.mean(mse_values)))\n",
        "print('Mean of R2 for all folds: {}'.format(np.mean(scores)))"
      ],
      "execution_count": 72,
      "outputs": [
        {
          "output_type": "stream",
          "text": [
            "Model 1\n",
            "MSE: 28.29770514205352\n",
            "R2: 0.6567529343522183\n",
            "\n",
            "Model 2\n",
            "MSE: 12.61811815780138\n",
            "R2: 0.6568744585361961\n",
            "\n",
            "Model 3\n",
            "MSE: 13.295321061960253\n",
            "R2: 0.6572948770606154\n",
            "\n",
            "Model 4\n",
            "MSE: 34.056151321910505\n",
            "R2: 0.6562572410985735\n",
            "\n",
            "Model 5\n",
            "MSE: 38.14466198813647\n",
            "R2: 0.6565819890685767\n",
            "\n",
            "Model 6\n",
            "MSE: 34.02531894809259\n",
            "R2: 0.6565374813276155\n",
            "\n",
            "Model 7\n",
            "MSE: 31.92667691752815\n",
            "R2: 0.6567044053438186\n",
            "\n",
            "Model 8\n",
            "MSE: 40.82736477086385\n",
            "R2: 0.6569138507808909\n",
            "\n",
            "Model 9\n",
            "MSE: 25.759988981101124\n",
            "R2: 0.6571256830941448\n",
            "\n",
            "Model 10\n",
            "MSE: 40.69991774870168\n",
            "R2: 0.656463317704765\n",
            "\n",
            "Summary\n",
            "---------------------------------------------\n",
            "Mean of MSE for all folds: 29.96512250381495\n",
            "Mean of R2 for all folds: 0.6567506238367414\n"
          ],
          "name": "stdout"
        }
      ]
    },
    {
      "metadata": {
        "id": "_ORZW2Om8mey",
        "colab_type": "text"
      },
      "cell_type": "markdown",
      "source": [
        "### 4.3 Tradeoffs associated with choosing the number of folds"
      ]
    },
    {
      "metadata": {
        "id": "BUtIN5ST8qK7",
        "colab_type": "text"
      },
      "cell_type": "markdown",
      "source": [
        "* Lower K = cheaper, less variance, more bias\n",
        "* Higher K = more expensive, more variance, lower bias."
      ]
    },
    {
      "metadata": {
        "id": "bZ-quIeBHUw5",
        "colab_type": "text"
      },
      "cell_type": "markdown",
      "source": [
        "## 5. KNN Practice"
      ]
    },
    {
      "metadata": {
        "id": "5KrcuTs7H3mW",
        "colab_type": "text"
      },
      "cell_type": "markdown",
      "source": [
        "### 5.1 Reading the iris data into a pandas DataFrame"
      ]
    },
    {
      "metadata": {
        "id": "Zfl98tM4H4CC",
        "colab_type": "code",
        "colab": {}
      },
      "cell_type": "code",
      "source": [
        "url = 'http://archive.ics.uci.edu/ml/machine-learning-databases/iris/iris.data'\n",
        "\n",
        "col_names = ['sepal_length', 'sepal_width', 'petal_length', 'petal_width', 'species']\n",
        "iris = pd.read_csv(url, header=None, names=col_names)"
      ],
      "execution_count": 0,
      "outputs": []
    },
    {
      "metadata": {
        "id": "qSPNV7_qH81D",
        "colab_type": "code",
        "colab": {}
      },
      "cell_type": "code",
      "source": [
        "\n",
        "iris.head()\n",
        "\n",
        "# Increase the default figure and font sizes for easier viewing\n",
        "plt.rcParams['figure.figsize'] = (6, 4)\n",
        "plt.rcParams['font.size'] = 20"
      ],
      "execution_count": 0,
      "outputs": []
    },
    {
      "metadata": {
        "id": "0ye_JFrGTeCg",
        "colab_type": "code",
        "colab": {}
      },
      "cell_type": "code",
      "source": [
        "from matplotlib.colors import ListedColormap\n",
        "\n",
        "cmap_bold = ListedColormap(['#FF0000', '#00FF00', '#0000FF'])"
      ],
      "execution_count": 0,
      "outputs": []
    },
    {
      "metadata": {
        "id": "tYXXnrkVT_2X",
        "colab_type": "text"
      },
      "cell_type": "markdown",
      "source": [
        "### 5.2 Mapping each iris species to a number."
      ]
    },
    {
      "metadata": {
        "id": "dCLjyqAlUSoK",
        "colab_type": "text"
      },
      "cell_type": "markdown",
      "source": [
        " Let's use:\n",
        " * Iris-setosa : 0 \n",
        " * Iris-versicolor : 1 \n",
        " * Iris-virginica : 2 \n",
        " * and create a column called 'species_num'"
      ]
    },
    {
      "metadata": {
        "id": "p8R45sWEUmQJ",
        "colab_type": "code",
        "colab": {}
      },
      "cell_type": "code",
      "source": [
        "iris['species_num'] = iris.species.map({'Iris-setosa':0, 'Iris-versicolor':1, 'Iris-virginica':2})"
      ],
      "execution_count": 0,
      "outputs": []
    },
    {
      "metadata": {
        "id": "YRP3yAegUI0j",
        "colab_type": "text"
      },
      "cell_type": "markdown",
      "source": [
        "### 5.3 Creating a scatterplot of PETAL LENGTH versus PETAL WIDTH and color by SPECIES"
      ]
    },
    {
      "metadata": {
        "id": "l7MpbNasUK-O",
        "colab_type": "code",
        "colab": {
          "base_uri": "https://localhost:8080/",
          "height": 277
        },
        "outputId": "96c54476-bf20-4d17-eb2c-8e5e31c0be69"
      },
      "cell_type": "code",
      "source": [
        "iris.plot(kind='scatter', x='petal_length', y='petal_width', c='species_num', colormap='tab10');"
      ],
      "execution_count": 77,
      "outputs": [
        {
          "output_type": "display_data",
          "data": {
            "image/png": "[encoded data removed]",
            "text/plain": [
              "<matplotlib.figure.Figure at 0x7f8c5b499828>"
            ]
          },
          "metadata": {
            "tags": []
          }
        }
      ]
    },
    {
      "metadata": {
        "id": "HHeSX3ZMULaH",
        "colab_type": "text"
      },
      "cell_type": "markdown",
      "source": [
        "### 5.4 Creating a scatterplot of SEPAL LENGTH versus SEPAL WIDTH and color by SPECIES"
      ]
    },
    {
      "metadata": {
        "id": "vP9gFqO1UMxM",
        "colab_type": "code",
        "colab": {
          "base_uri": "https://localhost:8080/",
          "height": 277
        },
        "outputId": "a674b698-9562-4d40-b7a2-2c8eb9144c8d"
      },
      "cell_type": "code",
      "source": [
        "iris.plot(kind='scatter', x='sepal_length', y='sepal_width', c='species_num', colormap='tab10');"
      ],
      "execution_count": 78,
      "outputs": [
        {
          "output_type": "display_data",
          "data": {
            "image/png": "[encoded data removed]",
            "text/plain": [
              "<matplotlib.figure.Figure at 0x7f8c5b3e52e8>"
            ]
          },
          "metadata": {
            "tags": []
          }
        }
      ]
    },
    {
      "metadata": {
        "id": "96OiRJXAXN_-",
        "colab_type": "text"
      },
      "cell_type": "markdown",
      "source": [
        "### 5.5 Creating feature matrix \"X\""
      ]
    },
    {
      "metadata": {
        "id": "6kdl9lB2YK86",
        "colab_type": "text"
      },
      "cell_type": "markdown",
      "source": [
        "This will be all species measurements (sepal length, petal width, etc...)"
      ]
    },
    {
      "metadata": {
        "id": "zoQWD9xzXQgt",
        "colab_type": "code",
        "colab": {}
      },
      "cell_type": "code",
      "source": [
        "feature_cols = ['sepal_length', 'sepal_width', 'petal_length', 'petal_width']\n",
        "X2 = iris[feature_cols]"
      ],
      "execution_count": 0,
      "outputs": []
    },
    {
      "metadata": {
        "id": "1MVeXIpfYKue",
        "colab_type": "text"
      },
      "cell_type": "markdown",
      "source": [
        "### 5.6 Creating target vector \"y\""
      ]
    },
    {
      "metadata": {
        "id": "p0o74a0TYfde",
        "colab_type": "text"
      },
      "cell_type": "markdown",
      "source": [
        "This will be the species type."
      ]
    },
    {
      "metadata": {
        "id": "g_KREJ5GX_-n",
        "colab_type": "code",
        "colab": {}
      },
      "cell_type": "code",
      "source": [
        "y2 = iris.species"
      ],
      "execution_count": 0,
      "outputs": []
    },
    {
      "metadata": {
        "id": "z25GJh6nYX03",
        "colab_type": "text"
      },
      "cell_type": "markdown",
      "source": [
        "### 5.7 Using Train-Test-Split"
      ]
    },
    {
      "metadata": {
        "id": "8lz-fovFYbQT",
        "colab_type": "text"
      },
      "cell_type": "markdown",
      "source": [
        "Split your data in to train and test sets."
      ]
    },
    {
      "metadata": {
        "id": "A24ZsMc0YZVC",
        "colab_type": "code",
        "colab": {}
      },
      "cell_type": "code",
      "source": [
        "X2_train, X2_test, y2_train, y2_test = train_test_split(X2, y2, random_state=99)"
      ],
      "execution_count": 0,
      "outputs": []
    },
    {
      "metadata": {
        "id": "y_oKRfcYazsW",
        "colab_type": "text"
      },
      "cell_type": "markdown",
      "source": [
        "### 5.8 Creating a KNN Model with One Neighbor"
      ]
    },
    {
      "metadata": {
        "id": "RnMfq58Ia1c1",
        "colab_type": "code",
        "colab": {
          "base_uri": "https://localhost:8080/",
          "height": 34
        },
        "outputId": "2ca72967-121a-4691-e7cf-9f346730bb13"
      },
      "cell_type": "code",
      "source": [
        "#Instatiating a Model With One Neighbors\n",
        "knn = KNeighborsClassifier(n_neighbors=1)\n",
        "\n",
        "#Training the model\n",
        "knn.fit(X2_train, y2_train)\n",
        "\n",
        "#Testing the model on the testing set\n",
        "y2_pred_class = knn.predict(X2_test)\n",
        "\n",
        "#Checking the Accuracy\n",
        "print((metrics.accuracy_score(y2_test, y2_pred_class)))"
      ],
      "execution_count": 82,
      "outputs": [
        {
          "output_type": "stream",
          "text": [
            "0.9210526315789473\n"
          ],
          "name": "stdout"
        }
      ]
    },
    {
      "metadata": {
        "id": "lCRnzgqHbYEj",
        "colab_type": "text"
      },
      "cell_type": "markdown",
      "source": [
        "### 5.9 Creating a KNN Model With Five Neighbors"
      ]
    },
    {
      "metadata": {
        "id": "jW91qnyHbZxU",
        "colab_type": "code",
        "colab": {
          "base_uri": "https://localhost:8080/",
          "height": 34
        },
        "outputId": "c2b15ab7-c1dd-4ca5-cdd9-1a31ceaf089f"
      },
      "cell_type": "code",
      "source": [
        "#Instatiating a Model With Five Neighbors\n",
        "knn = KNeighborsClassifier(n_neighbors=5)\n",
        "\n",
        "#Training the model\n",
        "knn.fit(X2_train, y2_train)\n",
        "\n",
        "#Testing the model on the testing set\n",
        "y2_pred_class = knn.predict(X2_test)\n",
        "\n",
        "#Checking the Accuracy\n",
        "print((metrics.accuracy_score(y2_test, y2_pred_class)))"
      ],
      "execution_count": 83,
      "outputs": [
        {
          "output_type": "stream",
          "text": [
            "0.9210526315789473\n"
          ],
          "name": "stdout"
        }
      ]
    },
    {
      "metadata": {
        "id": "4kjjMfZ-cEMW",
        "colab_type": "text"
      },
      "cell_type": "markdown",
      "source": [
        "The score stayed the same with five neighbors"
      ]
    },
    {
      "metadata": {
        "id": "0s--7s5D8e0h",
        "colab_type": "text"
      },
      "cell_type": "markdown",
      "source": [
        "### 5.10 Creating Function That Will Check Various Neighbors and Calculate the Accuracy"
      ]
    },
    {
      "metadata": {
        "id": "BgiItG0p8k2S",
        "colab_type": "code",
        "colab": {}
      },
      "cell_type": "code",
      "source": [
        "# Calculate TRAINING ERROR and TESTING ERROR for K=1 through 100.\n",
        "\n",
        "k_range = list(range(1, 101))\n",
        "training_error = []\n",
        "testing_error = []\n",
        "\n",
        "# Find test accuracy for all values of K between 1 and 100 (inclusive).\n",
        "for k in k_range:\n",
        "\n",
        "    # Instantiate the model with the current K value.\n",
        "    knn = KNeighborsClassifier(n_neighbors=k)\n",
        "    knn.fit(X2_train, y2_train)\n",
        "    \n",
        "    # Calculate training error (error = 1 - accuracy).\n",
        "    y2_pred_class = knn.predict(X2)\n",
        "    training_accuracy = metrics.accuracy_score(y2, y2_pred_class)\n",
        "    training_error.append(1 - training_accuracy)\n",
        "    \n",
        "    # Calculate testing error.\n",
        "    y2_pred_class = knn.predict(X2_test)\n",
        "    testing_accuracy = metrics.accuracy_score(y2_test, y2_pred_class)\n",
        "    testing_error.append(1 - testing_accuracy)"
      ],
      "execution_count": 0,
      "outputs": []
    },
    {
      "metadata": {
        "id": "d0AemA7w9AJi",
        "colab_type": "code",
        "colab": {
          "base_uri": "https://localhost:8080/",
          "height": 197
        },
        "outputId": "7b1ff2e9-043a-4447-e90f-5bc8876ca453"
      },
      "cell_type": "code",
      "source": [
        "# Create a DataFrame of K, training error, and testing error.\n",
        "column_dict = {'K': k_range, 'training error':training_error, 'testing error':testing_error}\n",
        "df = pd.DataFrame(column_dict).set_index('K').sort_index(ascending=False)\n",
        "df.head(4)"
      ],
      "execution_count": 85,
      "outputs": [
        {
          "output_type": "execute_result",
          "data": {
            "text/html": [
              "<div>\n",
              "<style scoped>\n",
              "    .dataframe tbody tr th:only-of-type {\n",
              "        vertical-align: middle;\n",
              "    }\n",
              "\n",
              "    .dataframe tbody tr th {\n",
              "        vertical-align: top;\n",
              "    }\n",
              "\n",
              "    .dataframe thead th {\n",
              "        text-align: right;\n",
              "    }\n",
              "</style>\n",
              "<table border=\"1\" class=\"dataframe\">\n",
              "  <thead>\n",
              "    <tr style=\"text-align: right;\">\n",
              "      <th></th>\n",
              "      <th>testing error</th>\n",
              "      <th>training error</th>\n",
              "    </tr>\n",
              "    <tr>\n",
              "      <th>K</th>\n",
              "      <th></th>\n",
              "      <th></th>\n",
              "    </tr>\n",
              "  </thead>\n",
              "  <tbody>\n",
              "    <tr>\n",
              "      <th>100</th>\n",
              "      <td>0.236842</td>\n",
              "      <td>0.220000</td>\n",
              "    </tr>\n",
              "    <tr>\n",
              "      <th>99</th>\n",
              "      <td>0.236842</td>\n",
              "      <td>0.220000</td>\n",
              "    </tr>\n",
              "    <tr>\n",
              "      <th>98</th>\n",
              "      <td>0.236842</td>\n",
              "      <td>0.220000</td>\n",
              "    </tr>\n",
              "    <tr>\n",
              "      <th>97</th>\n",
              "      <td>0.236842</td>\n",
              "      <td>0.213333</td>\n",
              "    </tr>\n",
              "  </tbody>\n",
              "</table>\n",
              "</div>"
            ],
            "text/plain": [
              "     testing error  training error\n",
              "K                                 \n",
              "100       0.236842        0.220000\n",
              "99        0.236842        0.220000\n",
              "98        0.236842        0.220000\n",
              "97        0.236842        0.213333"
            ]
          },
          "metadata": {
            "tags": []
          },
          "execution_count": 85
        }
      ]
    },
    {
      "metadata": {
        "id": "ZOQOzAun9Ecj",
        "colab_type": "code",
        "colab": {
          "base_uri": "https://localhost:8080/",
          "height": 278
        },
        "outputId": "0d12149b-ebbe-4595-ee04-e89f64dbc866"
      },
      "cell_type": "code",
      "source": [
        "# Plot the relationship between K (HIGH TO LOW) and TESTING ERROR.\n",
        "df.plot(y='testing error');\n",
        "plt.xlabel('Value of K for KNN');\n",
        "plt.ylabel('Error (lower is better)');"
      ],
      "execution_count": 86,
      "outputs": [
        {
          "output_type": "display_data",
          "data": {
            "image/png": "[encoded data removed]",
            "text/plain": [
              "<matplotlib.figure.Figure at 0x7f8c5f5e1828>"
            ]
          },
          "metadata": {
            "tags": []
          }
        }
      ]
    },
    {
      "metadata": {
        "id": "s8FZdZr69LdQ",
        "colab_type": "code",
        "colab": {
          "base_uri": "https://localhost:8080/",
          "height": 227
        },
        "outputId": "d3465916-c555-476d-854b-39661549a476"
      },
      "cell_type": "code",
      "source": [
        "# Find the minimum testing error and the associated K value.\n",
        "df.sort_values('testing error').head()"
      ],
      "execution_count": 87,
      "outputs": [
        {
          "output_type": "execute_result",
          "data": {
            "text/html": [
              "<div>\n",
              "<style scoped>\n",
              "    .dataframe tbody tr th:only-of-type {\n",
              "        vertical-align: middle;\n",
              "    }\n",
              "\n",
              "    .dataframe tbody tr th {\n",
              "        vertical-align: top;\n",
              "    }\n",
              "\n",
              "    .dataframe thead th {\n",
              "        text-align: right;\n",
              "    }\n",
              "</style>\n",
              "<table border=\"1\" class=\"dataframe\">\n",
              "  <thead>\n",
              "    <tr style=\"text-align: right;\">\n",
              "      <th></th>\n",
              "      <th>testing error</th>\n",
              "      <th>training error</th>\n",
              "    </tr>\n",
              "    <tr>\n",
              "      <th>K</th>\n",
              "      <th></th>\n",
              "      <th></th>\n",
              "    </tr>\n",
              "  </thead>\n",
              "  <tbody>\n",
              "    <tr>\n",
              "      <th>51</th>\n",
              "      <td>0.026316</td>\n",
              "      <td>0.073333</td>\n",
              "    </tr>\n",
              "    <tr>\n",
              "      <th>33</th>\n",
              "      <td>0.026316</td>\n",
              "      <td>0.040000</td>\n",
              "    </tr>\n",
              "    <tr>\n",
              "      <th>34</th>\n",
              "      <td>0.026316</td>\n",
              "      <td>0.040000</td>\n",
              "    </tr>\n",
              "    <tr>\n",
              "      <th>63</th>\n",
              "      <td>0.026316</td>\n",
              "      <td>0.086667</td>\n",
              "    </tr>\n",
              "    <tr>\n",
              "      <th>61</th>\n",
              "      <td>0.026316</td>\n",
              "      <td>0.086667</td>\n",
              "    </tr>\n",
              "  </tbody>\n",
              "</table>\n",
              "</div>"
            ],
            "text/plain": [
              "    testing error  training error\n",
              "K                                \n",
              "51       0.026316        0.073333\n",
              "33       0.026316        0.040000\n",
              "34       0.026316        0.040000\n",
              "63       0.026316        0.086667\n",
              "61       0.026316        0.086667"
            ]
          },
          "metadata": {
            "tags": []
          },
          "execution_count": 87
        }
      ]
    },
    {
      "metadata": {
        "id": "bahdje8s9YJb",
        "colab_type": "code",
        "colab": {
          "base_uri": "https://localhost:8080/",
          "height": 34
        },
        "outputId": "cb7cdb57-41f6-40de-d180-22dcb93c1ce6"
      },
      "cell_type": "code",
      "source": [
        "# Alternative method:\n",
        "min(list(zip(testing_error, k_range)))"
      ],
      "execution_count": 88,
      "outputs": [
        {
          "output_type": "execute_result",
          "data": {
            "text/plain": [
              "(0.02631578947368418, 10)"
            ]
          },
          "metadata": {
            "tags": []
          },
          "execution_count": 88
        }
      ]
    },
    {
      "metadata": {
        "id": "mjXOJN3v9cl4",
        "colab_type": "code",
        "colab": {}
      },
      "cell_type": "code",
      "source": [
        ""
      ],
      "execution_count": 0,
      "outputs": []
    }
  ]
}